{
  "nbformat": 4,
  "nbformat_minor": 0,
  "metadata": {
    "colab": {
      "provenance": []
    },
    "kernelspec": {
      "name": "python3",
      "display_name": "Python 3"
    },
    "language_info": {
      "name": "python"
    }
  },
  "cells": [
    {
      "cell_type": "code",
      "execution_count": 1,
      "metadata": {
        "id": "F-0vZFLmNg4Z"
      },
      "outputs": [],
      "source": [
        "import sqlite3\n",
        "import pandas as pd"
      ]
    },
    {
      "cell_type": "code",
      "source": [
        "# Connect to the SQLite database\n",
        "connect = sqlite3.connect('uk_accidents.db')"
      ],
      "metadata": {
        "id": "c-qhAsFaOICU"
      },
      "execution_count": 2,
      "outputs": []
    },
    {
      "cell_type": "code",
      "source": [
        "df1 = pd.read_csv('accidents_2005_to_2007.csv')\n",
        "df2 = pd.read_csv('accidents_2009_to_2011.csv')\n",
        "df3 = pd.read_csv('accidents_2012_to_2014.csv')"
      ],
      "metadata": {
        "id": "clwGJ4HiOIwo",
        "colab": {
          "base_uri": "https://localhost:8080/"
        },
        "outputId": "606855ee-c61e-4970-898d-33282d6ba7ee"
      },
      "execution_count": 3,
      "outputs": [
        {
          "output_type": "stream",
          "name": "stderr",
          "text": [
            "<ipython-input-3-4df79fdb4f6d>:2: DtypeWarning: Columns (20) have mixed types. Specify dtype option on import or set low_memory=False.\n",
            "  df2 = pd.read_csv('accidents_2009_to_2011.csv')\n"
          ]
        }
      ]
    },
    {
      "cell_type": "code",
      "source": [
        "# Concatenate the DataFrames vertically (row-wise)\n",
        "df_all = pd.concat([df1, df2, df3], axis=0)\n",
        "\n",
        "# Reset the index of the concatenated DataFrame\n",
        "df_all.reset_index(drop=True, inplace=True)"
      ],
      "metadata": {
        "id": "rzvdg4_VFhqM"
      },
      "execution_count": 4,
      "outputs": []
    },
    {
      "cell_type": "code",
      "source": [
        "df_all.info()"
      ],
      "metadata": {
        "id": "CLeGu6kTJl-6",
        "colab": {
          "base_uri": "https://localhost:8080/"
        },
        "outputId": "0971ee62-a263-41f5-93d1-6cc39e0128f3"
      },
      "execution_count": 5,
      "outputs": [
        {
          "output_type": "stream",
          "name": "stdout",
          "text": [
            "<class 'pandas.core.frame.DataFrame'>\n",
            "RangeIndex: 698418 entries, 0 to 698417\n",
            "Data columns (total 33 columns):\n",
            " #   Column                                       Non-Null Count   Dtype  \n",
            "---  ------                                       --------------   -----  \n",
            " 0   Accident_Index                               698418 non-null  object \n",
            " 1   Location_Easting_OSGR                        698345 non-null  float64\n",
            " 2   Location_Northing_OSGR                       698345 non-null  float64\n",
            " 3   Longitude                                    698344 non-null  float64\n",
            " 4   Latitude                                     698344 non-null  float64\n",
            " 5   Police_Force                                 698417 non-null  float64\n",
            " 6   Accident_Severity                            698417 non-null  float64\n",
            " 7   Number_of_Vehicles                           698417 non-null  float64\n",
            " 8   Number_of_Casualties                         698417 non-null  float64\n",
            " 9   Date                                         698417 non-null  object \n",
            " 10  Day_of_Week                                  698417 non-null  float64\n",
            " 11  Time                                         698365 non-null  object \n",
            " 12  Local_Authority_(District)                   698417 non-null  float64\n",
            " 13  Local_Authority_(Highway)                    698417 non-null  object \n",
            " 14  1st_Road_Class                               698417 non-null  float64\n",
            " 15  1st_Road_Number                              698417 non-null  float64\n",
            " 16  Road_Type                                    698417 non-null  object \n",
            " 17  Speed_limit                                  698417 non-null  float64\n",
            " 18  Junction_Detail                              0 non-null       float64\n",
            " 19  Junction_Control                             431758 non-null  object \n",
            " 20  2nd_Road_Class                               698417 non-null  object \n",
            " 21  2nd_Road_Number                              698416 non-null  float64\n",
            " 22  Pedestrian_Crossing-Human_Control            698401 non-null  object \n",
            " 23  Pedestrian_Crossing-Physical_Facilities      698393 non-null  object \n",
            " 24  Light_Conditions                             698415 non-null  object \n",
            " 25  Weather_Conditions                           698360 non-null  object \n",
            " 26  Road_Surface_Conditions                      697685 non-null  object \n",
            " 27  Special_Conditions_at_Site                   698402 non-null  object \n",
            " 28  Carriageway_Hazards                          698391 non-null  object \n",
            " 29  Urban_or_Rural_Area                          698415 non-null  float64\n",
            " 30  Did_Police_Officer_Attend_Scene_of_Accident  697221 non-null  object \n",
            " 31  LSOA_of_Accident_Location                    662888 non-null  object \n",
            " 32  Year                                         698415 non-null  float64\n",
            "dtypes: float64(17), object(16)\n",
            "memory usage: 175.8+ MB\n"
          ]
        }
      ]
    },
    {
      "cell_type": "code",
      "source": [
        "df_all.columns"
      ],
      "metadata": {
        "id": "yw8lCLsAGZ0c",
        "colab": {
          "base_uri": "https://localhost:8080/"
        },
        "outputId": "25663049-8cb0-4eb6-b2cf-bce031103638"
      },
      "execution_count": 6,
      "outputs": [
        {
          "output_type": "execute_result",
          "data": {
            "text/plain": [
              "Index(['Accident_Index', 'Location_Easting_OSGR', 'Location_Northing_OSGR',\n",
              "       'Longitude', 'Latitude', 'Police_Force', 'Accident_Severity',\n",
              "       'Number_of_Vehicles', 'Number_of_Casualties', 'Date', 'Day_of_Week',\n",
              "       'Time', 'Local_Authority_(District)', 'Local_Authority_(Highway)',\n",
              "       '1st_Road_Class', '1st_Road_Number', 'Road_Type', 'Speed_limit',\n",
              "       'Junction_Detail', 'Junction_Control', '2nd_Road_Class',\n",
              "       '2nd_Road_Number', 'Pedestrian_Crossing-Human_Control',\n",
              "       'Pedestrian_Crossing-Physical_Facilities', 'Light_Conditions',\n",
              "       'Weather_Conditions', 'Road_Surface_Conditions',\n",
              "       'Special_Conditions_at_Site', 'Carriageway_Hazards',\n",
              "       'Urban_or_Rural_Area', 'Did_Police_Officer_Attend_Scene_of_Accident',\n",
              "       'LSOA_of_Accident_Location', 'Year'],\n",
              "      dtype='object')"
            ]
          },
          "metadata": {},
          "execution_count": 6
        }
      ]
    },
    {
      "cell_type": "code",
      "source": [
        "df_all.head(3)"
      ],
      "metadata": {
        "id": "6Wjzh-tcGW5i",
        "colab": {
          "base_uri": "https://localhost:8080/",
          "height": 341
        },
        "outputId": "c7cbcb25-5e98-40f1-ba7b-1e4a2294ae6c"
      },
      "execution_count": 7,
      "outputs": [
        {
          "output_type": "execute_result",
          "data": {
            "text/plain": [
              "  Accident_Index  Location_Easting_OSGR  Location_Northing_OSGR  Longitude  \\\n",
              "0  200501BS00001               525680.0                178240.0  -0.191170   \n",
              "1  200501BS00002               524170.0                181650.0  -0.211708   \n",
              "2  200501BS00003               524520.0                182240.0  -0.206458   \n",
              "\n",
              "    Latitude  Police_Force  Accident_Severity  Number_of_Vehicles  \\\n",
              "0  51.489096           1.0                2.0                 1.0   \n",
              "1  51.520075           1.0                3.0                 1.0   \n",
              "2  51.525301           1.0                3.0                 2.0   \n",
              "\n",
              "   Number_of_Casualties        Date  ...  \\\n",
              "0                   1.0  04/01/2005  ...   \n",
              "1                   1.0  05/01/2005  ...   \n",
              "2                   1.0  06/01/2005  ...   \n",
              "\n",
              "       Pedestrian_Crossing-Physical_Facilities  \\\n",
              "0                               Zebra crossing   \n",
              "1  Pedestrian phase at traffic signal junction   \n",
              "2        No physical crossing within 50 meters   \n",
              "\n",
              "                          Light_Conditions          Weather_Conditions  \\\n",
              "0           Daylight: Street light present  Raining without high winds   \n",
              "1  Darkness: Street lights present and lit     Fine without high winds   \n",
              "2  Darkness: Street lights present and lit     Fine without high winds   \n",
              "\n",
              "  Road_Surface_Conditions  Special_Conditions_at_Site  Carriageway_Hazards  \\\n",
              "0                Wet/Damp                        None                 None   \n",
              "1                     Dry                        None                 None   \n",
              "2                     Dry                        None                 None   \n",
              "\n",
              "  Urban_or_Rural_Area  Did_Police_Officer_Attend_Scene_of_Accident  \\\n",
              "0                 1.0                                          Yes   \n",
              "1                 1.0                                          Yes   \n",
              "2                 1.0                                          Yes   \n",
              "\n",
              "   LSOA_of_Accident_Location    Year  \n",
              "0                  E01002849  2005.0  \n",
              "1                  E01002909  2005.0  \n",
              "2                  E01002857  2005.0  \n",
              "\n",
              "[3 rows x 33 columns]"
            ],
            "text/html": [
              "\n",
              "\n",
              "  <div id=\"df-8aa9a016-d4cb-4e40-873e-55fd1ef7378b\">\n",
              "    <div class=\"colab-df-container\">\n",
              "      <div>\n",
              "<style scoped>\n",
              "    .dataframe tbody tr th:only-of-type {\n",
              "        vertical-align: middle;\n",
              "    }\n",
              "\n",
              "    .dataframe tbody tr th {\n",
              "        vertical-align: top;\n",
              "    }\n",
              "\n",
              "    .dataframe thead th {\n",
              "        text-align: right;\n",
              "    }\n",
              "</style>\n",
              "<table border=\"1\" class=\"dataframe\">\n",
              "  <thead>\n",
              "    <tr style=\"text-align: right;\">\n",
              "      <th></th>\n",
              "      <th>Accident_Index</th>\n",
              "      <th>Location_Easting_OSGR</th>\n",
              "      <th>Location_Northing_OSGR</th>\n",
              "      <th>Longitude</th>\n",
              "      <th>Latitude</th>\n",
              "      <th>Police_Force</th>\n",
              "      <th>Accident_Severity</th>\n",
              "      <th>Number_of_Vehicles</th>\n",
              "      <th>Number_of_Casualties</th>\n",
              "      <th>Date</th>\n",
              "      <th>...</th>\n",
              "      <th>Pedestrian_Crossing-Physical_Facilities</th>\n",
              "      <th>Light_Conditions</th>\n",
              "      <th>Weather_Conditions</th>\n",
              "      <th>Road_Surface_Conditions</th>\n",
              "      <th>Special_Conditions_at_Site</th>\n",
              "      <th>Carriageway_Hazards</th>\n",
              "      <th>Urban_or_Rural_Area</th>\n",
              "      <th>Did_Police_Officer_Attend_Scene_of_Accident</th>\n",
              "      <th>LSOA_of_Accident_Location</th>\n",
              "      <th>Year</th>\n",
              "    </tr>\n",
              "  </thead>\n",
              "  <tbody>\n",
              "    <tr>\n",
              "      <th>0</th>\n",
              "      <td>200501BS00001</td>\n",
              "      <td>525680.0</td>\n",
              "      <td>178240.0</td>\n",
              "      <td>-0.191170</td>\n",
              "      <td>51.489096</td>\n",
              "      <td>1.0</td>\n",
              "      <td>2.0</td>\n",
              "      <td>1.0</td>\n",
              "      <td>1.0</td>\n",
              "      <td>04/01/2005</td>\n",
              "      <td>...</td>\n",
              "      <td>Zebra crossing</td>\n",
              "      <td>Daylight: Street light present</td>\n",
              "      <td>Raining without high winds</td>\n",
              "      <td>Wet/Damp</td>\n",
              "      <td>None</td>\n",
              "      <td>None</td>\n",
              "      <td>1.0</td>\n",
              "      <td>Yes</td>\n",
              "      <td>E01002849</td>\n",
              "      <td>2005.0</td>\n",
              "    </tr>\n",
              "    <tr>\n",
              "      <th>1</th>\n",
              "      <td>200501BS00002</td>\n",
              "      <td>524170.0</td>\n",
              "      <td>181650.0</td>\n",
              "      <td>-0.211708</td>\n",
              "      <td>51.520075</td>\n",
              "      <td>1.0</td>\n",
              "      <td>3.0</td>\n",
              "      <td>1.0</td>\n",
              "      <td>1.0</td>\n",
              "      <td>05/01/2005</td>\n",
              "      <td>...</td>\n",
              "      <td>Pedestrian phase at traffic signal junction</td>\n",
              "      <td>Darkness: Street lights present and lit</td>\n",
              "      <td>Fine without high winds</td>\n",
              "      <td>Dry</td>\n",
              "      <td>None</td>\n",
              "      <td>None</td>\n",
              "      <td>1.0</td>\n",
              "      <td>Yes</td>\n",
              "      <td>E01002909</td>\n",
              "      <td>2005.0</td>\n",
              "    </tr>\n",
              "    <tr>\n",
              "      <th>2</th>\n",
              "      <td>200501BS00003</td>\n",
              "      <td>524520.0</td>\n",
              "      <td>182240.0</td>\n",
              "      <td>-0.206458</td>\n",
              "      <td>51.525301</td>\n",
              "      <td>1.0</td>\n",
              "      <td>3.0</td>\n",
              "      <td>2.0</td>\n",
              "      <td>1.0</td>\n",
              "      <td>06/01/2005</td>\n",
              "      <td>...</td>\n",
              "      <td>No physical crossing within 50 meters</td>\n",
              "      <td>Darkness: Street lights present and lit</td>\n",
              "      <td>Fine without high winds</td>\n",
              "      <td>Dry</td>\n",
              "      <td>None</td>\n",
              "      <td>None</td>\n",
              "      <td>1.0</td>\n",
              "      <td>Yes</td>\n",
              "      <td>E01002857</td>\n",
              "      <td>2005.0</td>\n",
              "    </tr>\n",
              "  </tbody>\n",
              "</table>\n",
              "<p>3 rows × 33 columns</p>\n",
              "</div>\n",
              "      <button class=\"colab-df-convert\" onclick=\"convertToInteractive('df-8aa9a016-d4cb-4e40-873e-55fd1ef7378b')\"\n",
              "              title=\"Convert this dataframe to an interactive table.\"\n",
              "              style=\"display:none;\">\n",
              "\n",
              "  <svg xmlns=\"http://www.w3.org/2000/svg\" height=\"24px\"viewBox=\"0 0 24 24\"\n",
              "       width=\"24px\">\n",
              "    <path d=\"M0 0h24v24H0V0z\" fill=\"none\"/>\n",
              "    <path d=\"M18.56 5.44l.94 2.06.94-2.06 2.06-.94-2.06-.94-.94-2.06-.94 2.06-2.06.94zm-11 1L8.5 8.5l.94-2.06 2.06-.94-2.06-.94L8.5 2.5l-.94 2.06-2.06.94zm10 10l.94 2.06.94-2.06 2.06-.94-2.06-.94-.94-2.06-.94 2.06-2.06.94z\"/><path d=\"M17.41 7.96l-1.37-1.37c-.4-.4-.92-.59-1.43-.59-.52 0-1.04.2-1.43.59L10.3 9.45l-7.72 7.72c-.78.78-.78 2.05 0 2.83L4 21.41c.39.39.9.59 1.41.59.51 0 1.02-.2 1.41-.59l7.78-7.78 2.81-2.81c.8-.78.8-2.07 0-2.86zM5.41 20L4 18.59l7.72-7.72 1.47 1.35L5.41 20z\"/>\n",
              "  </svg>\n",
              "      </button>\n",
              "\n",
              "\n",
              "\n",
              "    <div id=\"df-3e35f89e-55d2-40f1-b650-d57829db0349\">\n",
              "      <button class=\"colab-df-quickchart\" onclick=\"quickchart('df-3e35f89e-55d2-40f1-b650-d57829db0349')\"\n",
              "              title=\"Suggest charts.\"\n",
              "              style=\"display:none;\">\n",
              "\n",
              "<svg xmlns=\"http://www.w3.org/2000/svg\" height=\"24px\"viewBox=\"0 0 24 24\"\n",
              "     width=\"24px\">\n",
              "    <g>\n",
              "        <path d=\"M19 3H5c-1.1 0-2 .9-2 2v14c0 1.1.9 2 2 2h14c1.1 0 2-.9 2-2V5c0-1.1-.9-2-2-2zM9 17H7v-7h2v7zm4 0h-2V7h2v10zm4 0h-2v-4h2v4z\"/>\n",
              "    </g>\n",
              "</svg>\n",
              "      </button>\n",
              "    </div>\n",
              "\n",
              "<style>\n",
              "  .colab-df-quickchart {\n",
              "    background-color: #E8F0FE;\n",
              "    border: none;\n",
              "    border-radius: 50%;\n",
              "    cursor: pointer;\n",
              "    display: none;\n",
              "    fill: #1967D2;\n",
              "    height: 32px;\n",
              "    padding: 0 0 0 0;\n",
              "    width: 32px;\n",
              "  }\n",
              "\n",
              "  .colab-df-quickchart:hover {\n",
              "    background-color: #E2EBFA;\n",
              "    box-shadow: 0px 1px 2px rgba(60, 64, 67, 0.3), 0px 1px 3px 1px rgba(60, 64, 67, 0.15);\n",
              "    fill: #174EA6;\n",
              "  }\n",
              "\n",
              "  [theme=dark] .colab-df-quickchart {\n",
              "    background-color: #3B4455;\n",
              "    fill: #D2E3FC;\n",
              "  }\n",
              "\n",
              "  [theme=dark] .colab-df-quickchart:hover {\n",
              "    background-color: #434B5C;\n",
              "    box-shadow: 0px 1px 3px 1px rgba(0, 0, 0, 0.15);\n",
              "    filter: drop-shadow(0px 1px 2px rgba(0, 0, 0, 0.3));\n",
              "    fill: #FFFFFF;\n",
              "  }\n",
              "</style>\n",
              "\n",
              "    <script>\n",
              "      async function quickchart(key) {\n",
              "        const containerElement = document.querySelector('#' + key);\n",
              "        const charts = await google.colab.kernel.invokeFunction(\n",
              "            'suggestCharts', [key], {});\n",
              "      }\n",
              "    </script>\n",
              "\n",
              "      <script>\n",
              "\n",
              "function displayQuickchartButton(domScope) {\n",
              "  let quickchartButtonEl =\n",
              "    domScope.querySelector('#df-3e35f89e-55d2-40f1-b650-d57829db0349 button.colab-df-quickchart');\n",
              "  quickchartButtonEl.style.display =\n",
              "    google.colab.kernel.accessAllowed ? 'block' : 'none';\n",
              "}\n",
              "\n",
              "        displayQuickchartButton(document);\n",
              "      </script>\n",
              "      <style>\n",
              "    .colab-df-container {\n",
              "      display:flex;\n",
              "      flex-wrap:wrap;\n",
              "      gap: 12px;\n",
              "    }\n",
              "\n",
              "    .colab-df-convert {\n",
              "      background-color: #E8F0FE;\n",
              "      border: none;\n",
              "      border-radius: 50%;\n",
              "      cursor: pointer;\n",
              "      display: none;\n",
              "      fill: #1967D2;\n",
              "      height: 32px;\n",
              "      padding: 0 0 0 0;\n",
              "      width: 32px;\n",
              "    }\n",
              "\n",
              "    .colab-df-convert:hover {\n",
              "      background-color: #E2EBFA;\n",
              "      box-shadow: 0px 1px 2px rgba(60, 64, 67, 0.3), 0px 1px 3px 1px rgba(60, 64, 67, 0.15);\n",
              "      fill: #174EA6;\n",
              "    }\n",
              "\n",
              "    [theme=dark] .colab-df-convert {\n",
              "      background-color: #3B4455;\n",
              "      fill: #D2E3FC;\n",
              "    }\n",
              "\n",
              "    [theme=dark] .colab-df-convert:hover {\n",
              "      background-color: #434B5C;\n",
              "      box-shadow: 0px 1px 3px 1px rgba(0, 0, 0, 0.15);\n",
              "      filter: drop-shadow(0px 1px 2px rgba(0, 0, 0, 0.3));\n",
              "      fill: #FFFFFF;\n",
              "    }\n",
              "  </style>\n",
              "\n",
              "      <script>\n",
              "        const buttonEl =\n",
              "          document.querySelector('#df-8aa9a016-d4cb-4e40-873e-55fd1ef7378b button.colab-df-convert');\n",
              "        buttonEl.style.display =\n",
              "          google.colab.kernel.accessAllowed ? 'block' : 'none';\n",
              "\n",
              "        async function convertToInteractive(key) {\n",
              "          const element = document.querySelector('#df-8aa9a016-d4cb-4e40-873e-55fd1ef7378b');\n",
              "          const dataTable =\n",
              "            await google.colab.kernel.invokeFunction('convertToInteractive',\n",
              "                                                     [key], {});\n",
              "          if (!dataTable) return;\n",
              "\n",
              "          const docLinkHtml = 'Like what you see? Visit the ' +\n",
              "            '<a target=\"_blank\" href=https://colab.research.google.com/notebooks/data_table.ipynb>data table notebook</a>'\n",
              "            + ' to learn more about interactive tables.';\n",
              "          element.innerHTML = '';\n",
              "          dataTable['output_type'] = 'display_data';\n",
              "          await google.colab.output.renderOutput(dataTable, element);\n",
              "          const docLink = document.createElement('div');\n",
              "          docLink.innerHTML = docLinkHtml;\n",
              "          element.appendChild(docLink);\n",
              "        }\n",
              "      </script>\n",
              "    </div>\n",
              "  </div>\n"
            ]
          },
          "metadata": {},
          "execution_count": 7
        }
      ]
    },
    {
      "cell_type": "code",
      "source": [
        "# Write the DataFrame to the SQLite database\n",
        "df_all.to_sql('uk_accidents_table', connect, if_exists='replace', index=False)"
      ],
      "metadata": {
        "id": "XS0nB8jsFqft",
        "colab": {
          "base_uri": "https://localhost:8080/"
        },
        "outputId": "46d0dc7f-3f65-4ca8-d8ce-0fa0e8ddd77c"
      },
      "execution_count": 8,
      "outputs": [
        {
          "output_type": "execute_result",
          "data": {
            "text/plain": [
              "698418"
            ]
          },
          "metadata": {},
          "execution_count": 8
        }
      ]
    },
    {
      "cell_type": "markdown",
      "source": [
        "### Run SQL queries"
      ],
      "metadata": {
        "id": "mCSmRLsjci7T"
      }
    },
    {
      "cell_type": "code",
      "source": [
        "# Example: Select all rows from the table\n",
        "query = \"SELECT * FROM uk_accidents_table\"\n",
        "result = pd.read_sql_query(query, connect)"
      ],
      "metadata": {
        "id": "wZZOug0VGEve"
      },
      "execution_count": 9,
      "outputs": []
    },
    {
      "cell_type": "code",
      "source": [
        "print(type(result))\n",
        "print(len(result))"
      ],
      "metadata": {
        "id": "6sjzBd1JGHwA",
        "colab": {
          "base_uri": "https://localhost:8080/"
        },
        "outputId": "63bdf0eb-9818-46b7-a05e-50105a79c233"
      },
      "execution_count": 10,
      "outputs": [
        {
          "output_type": "stream",
          "name": "stdout",
          "text": [
            "<class 'pandas.core.frame.DataFrame'>\n",
            "698418\n"
          ]
        }
      ]
    },
    {
      "cell_type": "code",
      "source": [
        "# Create a cursor object to execute SQL queries\n",
        "cursor = connect.cursor()"
      ],
      "metadata": {
        "id": "afXXNcMlGpVi"
      },
      "execution_count": 11,
      "outputs": []
    },
    {
      "cell_type": "code",
      "source": [
        "cursor.execute(\"PRAGMA table_info('uk_accidents_table')\")\n",
        "result = cursor.fetchall()"
      ],
      "metadata": {
        "id": "C9bRGoSFNibn"
      },
      "execution_count": 12,
      "outputs": []
    },
    {
      "cell_type": "markdown",
      "source": [
        "#### Check for columns with missing values\n",
        "\n"
      ],
      "metadata": {
        "id": "bPy-L9ngcrVy"
      }
    },
    {
      "cell_type": "code",
      "source": [
        "column_names = [row[1] for row in result if row[3] == 0]\n",
        "\n",
        "# Print the column names with null values\n",
        "print(\"No of columns with missing values: \", len(column_names))\n",
        "for column in column_names:\n",
        "    print(column)"
      ],
      "metadata": {
        "id": "v8zpINujHG56",
        "colab": {
          "base_uri": "https://localhost:8080/"
        },
        "outputId": "c56fa454-5b1d-46e5-ac8d-69d52bf3f210"
      },
      "execution_count": 13,
      "outputs": [
        {
          "output_type": "stream",
          "name": "stdout",
          "text": [
            "No of columns with missing values:  33\n",
            "Accident_Index\n",
            "Location_Easting_OSGR\n",
            "Location_Northing_OSGR\n",
            "Longitude\n",
            "Latitude\n",
            "Police_Force\n",
            "Accident_Severity\n",
            "Number_of_Vehicles\n",
            "Number_of_Casualties\n",
            "Date\n",
            "Day_of_Week\n",
            "Time\n",
            "Local_Authority_(District)\n",
            "Local_Authority_(Highway)\n",
            "1st_Road_Class\n",
            "1st_Road_Number\n",
            "Road_Type\n",
            "Speed_limit\n",
            "Junction_Detail\n",
            "Junction_Control\n",
            "2nd_Road_Class\n",
            "2nd_Road_Number\n",
            "Pedestrian_Crossing-Human_Control\n",
            "Pedestrian_Crossing-Physical_Facilities\n",
            "Light_Conditions\n",
            "Weather_Conditions\n",
            "Road_Surface_Conditions\n",
            "Special_Conditions_at_Site\n",
            "Carriageway_Hazards\n",
            "Urban_or_Rural_Area\n",
            "Did_Police_Officer_Attend_Scene_of_Accident\n",
            "LSOA_of_Accident_Location\n",
            "Year\n"
          ]
        }
      ]
    },
    {
      "cell_type": "markdown",
      "source": [
        "#### Check Data Types of each column"
      ],
      "metadata": {
        "id": "GRktstykc3eM"
      }
    },
    {
      "cell_type": "code",
      "source": [
        "# Data Type of each columns\n",
        "column_types = {key: value for _, key, value, _, _, _ in result}\n",
        "\n",
        "# Print the column names with null values\n",
        "for key, value in column_types.items():\n",
        "    print(key,': ', value)"
      ],
      "metadata": {
        "id": "eKOiMKSzNoQQ",
        "colab": {
          "base_uri": "https://localhost:8080/"
        },
        "outputId": "93e62f48-c905-4c30-914d-e8db2b5ab1a1"
      },
      "execution_count": 14,
      "outputs": [
        {
          "output_type": "stream",
          "name": "stdout",
          "text": [
            "Accident_Index :  TEXT\n",
            "Location_Easting_OSGR :  REAL\n",
            "Location_Northing_OSGR :  REAL\n",
            "Longitude :  REAL\n",
            "Latitude :  REAL\n",
            "Police_Force :  REAL\n",
            "Accident_Severity :  REAL\n",
            "Number_of_Vehicles :  REAL\n",
            "Number_of_Casualties :  REAL\n",
            "Date :  TEXT\n",
            "Day_of_Week :  REAL\n",
            "Time :  TEXT\n",
            "Local_Authority_(District) :  REAL\n",
            "Local_Authority_(Highway) :  TEXT\n",
            "1st_Road_Class :  REAL\n",
            "1st_Road_Number :  REAL\n",
            "Road_Type :  TEXT\n",
            "Speed_limit :  REAL\n",
            "Junction_Detail :  REAL\n",
            "Junction_Control :  TEXT\n",
            "2nd_Road_Class :  TEXT\n",
            "2nd_Road_Number :  REAL\n",
            "Pedestrian_Crossing-Human_Control :  TEXT\n",
            "Pedestrian_Crossing-Physical_Facilities :  TEXT\n",
            "Light_Conditions :  TEXT\n",
            "Weather_Conditions :  TEXT\n",
            "Road_Surface_Conditions :  TEXT\n",
            "Special_Conditions_at_Site :  TEXT\n",
            "Carriageway_Hazards :  TEXT\n",
            "Urban_or_Rural_Area :  REAL\n",
            "Did_Police_Officer_Attend_Scene_of_Accident :  TEXT\n",
            "LSOA_of_Accident_Location :  TEXT\n",
            "Year :  REAL\n"
          ]
        }
      ]
    },
    {
      "cell_type": "code",
      "source": [
        "type(result[1])"
      ],
      "metadata": {
        "id": "Ga0hRNldJJ37",
        "colab": {
          "base_uri": "https://localhost:8080/"
        },
        "outputId": "9362360c-de19-4a00-e0be-31b66c2dd2dc"
      },
      "execution_count": 15,
      "outputs": [
        {
          "output_type": "execute_result",
          "data": {
            "text/plain": [
              "tuple"
            ]
          },
          "metadata": {},
          "execution_count": 15
        }
      ]
    },
    {
      "cell_type": "code",
      "source": [
        "result[1]"
      ],
      "metadata": {
        "id": "iF8bWSbaNO2O",
        "colab": {
          "base_uri": "https://localhost:8080/"
        },
        "outputId": "db00af9c-b4c9-471d-95c0-a24a5e70ff5f"
      },
      "execution_count": 16,
      "outputs": [
        {
          "output_type": "execute_result",
          "data": {
            "text/plain": [
              "(1, 'Location_Easting_OSGR', 'REAL', 0, None, 0)"
            ]
          },
          "metadata": {},
          "execution_count": 16
        }
      ]
    },
    {
      "cell_type": "markdown",
      "source": [
        "#### Check number of duplicate rows with same Accident_Index"
      ],
      "metadata": {
        "id": "Z8zOzIL8c_Xp"
      }
    },
    {
      "cell_type": "code",
      "source": [
        "query = \"SELECT Accident_Index, COUNT(*) AS duplicate_count FROM uk_accidents_table GROUP BY Accident_Index HAVING COUNT(*) > 1;\"\n",
        "result = pd.read_sql_query(query, connect)\n",
        "print(result.head(3))"
      ],
      "metadata": {
        "id": "RcO7ZLj9bTLL",
        "colab": {
          "base_uri": "https://localhost:8080/"
        },
        "outputId": "a38b946b-e503-467c-ac62-01ab3d39cfaa"
      },
      "execution_count": 17,
      "outputs": [
        {
          "output_type": "stream",
          "name": "stdout",
          "text": [
            "  Accident_Index  duplicate_count\n",
            "0    2.00903E+12             1471\n",
            "1    2.00907E+12             3270\n",
            "2    2.00912E+12             2345\n"
          ]
        }
      ]
    },
    {
      "cell_type": "code",
      "source": [],
      "metadata": {
        "id": "36e7T_Y0caB7"
      },
      "execution_count": 17,
      "outputs": []
    }
  ]
}